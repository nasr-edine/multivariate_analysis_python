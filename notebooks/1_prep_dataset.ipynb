{
 "cells": [
  {
   "cell_type": "markdown",
   "id": "7b506042-839e-4e45-84e0-e6c464f3e91f",
   "metadata": {
    "tags": []
   },
   "source": [
    "# Multivariate Analysis Using Python about Public Health Data"
   ]
  },
  {
   "cell_type": "markdown",
   "id": "a75dcf74-b87c-4e13-82b7-119d7a0634b0",
   "metadata": {},
   "source": [
    "### Notebook by [Nasr-edine DRAI](https://www.hackerrank.com/d_nasredine)\n",
    "\n"
   ]
  },
  {
   "cell_type": "markdown",
   "id": "87971538-cfc1-40f0-9313-c9a47379d7a7",
   "metadata": {},
   "source": [
    "### [Openclassrooms](https://openclassrooms.com/en/)"
   ]
  },
  {
   "cell_type": "markdown",
   "id": "c4f64f2f-d667-4386-9c88-57ee8b149b62",
   "metadata": {},
   "source": [
    "## Introduction\n",
    "\n",
    "In this notebook, I'm going to go over a basic Python data analysis from start to finish to show you how to use python libraries to perform exploratory data analysis and perform multivariate statistical analysis about public health data."
   ]
  },
  {
   "cell_type": "markdown",
   "id": "0b5b48cb-65f8-496f-a343-91d1ac888015",
   "metadata": {},
   "source": [
    "## The problem domain\n",
    "\n",
    "For the purposes of this project, \"The French Public Health Agency (Santé publique France) has launched a call for projects to make public health data more accessible and usable by its agents. As part of this call for projects, the agency wants individuals or teams to carry out an initial exploration and visualization of the data, so that agents can use these results to effectively exploit the data.\"\n",
    "\n",
    "<img src=\"../imgs/french_public_health_agency.png\" />"
   ]
  },
  {
   "cell_type": "markdown",
   "id": "b62ba904-9ad8-4e03-9120-64dc678233b0",
   "metadata": {},
   "source": [
    "## Verify Python Virtual Environments"
   ]
  },
  {
   "cell_type": "markdown",
   "id": "d600a9bf-ed33-42bb-ac3c-20281cbdd412",
   "metadata": {},
   "source": [
    "#### Check the Version of the Python Interpreter"
   ]
  },
  {
   "cell_type": "code",
   "execution_count": 1,
   "id": "4f31cd88-be45-441c-a1ae-c89f9bbe92be",
   "metadata": {
    "collapsed": true,
    "jupyter": {
     "outputs_hidden": true
    },
    "tags": []
   },
   "outputs": [
    {
     "name": "stdout",
     "output_type": "stream",
     "text": [
      "Python 3.10.4\n"
     ]
    }
   ],
   "source": [
    "!python --version"
   ]
  },
  {
   "cell_type": "markdown",
   "id": "a7f604fb-a020-491a-80f6-a3a3ec182fcf",
   "metadata": {},
   "source": [
    "#### Verify that I'm using the right virtual environment"
   ]
  },
  {
   "cell_type": "code",
   "execution_count": 2,
   "id": "bff6a253-4430-427d-b488-13fdfbd1a80d",
   "metadata": {
    "collapsed": true,
    "jupyter": {
     "outputs_hidden": true
    },
    "tags": []
   },
   "outputs": [
    {
     "name": "stdout",
     "output_type": "stream",
     "text": [
      "pip 22.3.1 from /Users/drainasr-edine/github/ingenieur_ia/P3_drai_nasr-edine/ia_project_3_env/lib/python3.10/site-packages/pip (python 3.10)\n"
     ]
    }
   ],
   "source": [
    "!pip -V"
   ]
  },
  {
   "cell_type": "markdown",
   "id": "2ce5fb9d-2fd6-4423-af87-287bca92d787",
   "metadata": {
    "tags": []
   },
   "source": [
    "#### Check Installed Modules in Python"
   ]
  },
  {
   "cell_type": "markdown",
   "id": "49a78766-2dbd-4c9a-844f-6865b87d1013",
   "metadata": {},
   "source": [
    "Run through this notebook to make sure my environment is properly setup. Be sure to launch Jupyter from inside the virtual environment."
   ]
  },
  {
   "cell_type": "code",
   "execution_count": 3,
   "id": "1bf72e19-eceb-4066-87a4-c4ce5c80644b",
   "metadata": {
    "collapsed": true,
    "jupyter": {
     "outputs_hidden": true
    }
   },
   "outputs": [
    {
     "name": "stdout",
     "output_type": "stream",
     "text": [
      "/Users/drainasr-edine/github/ingenieur_ia/P3_drai_nasr-edine\n"
     ]
    }
   ],
   "source": [
    "import os, sys\n",
    "\n",
    "parent = os.path.abspath('..')\n",
    "sys.path.insert(1, parent)\n",
    "print(parent)"
   ]
  },
  {
   "cell_type": "markdown",
   "id": "841b3919-26cb-4eca-a4ed-531f6ffe58c8",
   "metadata": {},
   "source": [
    "This code allows me to import modules from the parent directory in my notebook"
   ]
  },
  {
   "cell_type": "code",
   "execution_count": 4,
   "id": "e60dbe70-53c3-43ff-aa1b-e368cab8c4c4",
   "metadata": {
    "collapsed": true,
    "jupyter": {
     "outputs_hidden": true
    },
    "tags": []
   },
   "outputs": [
    {
     "name": "stdout",
     "output_type": "stream",
     "text": [
      "Using Python in /Users/drainasr-edine/github/ingenieur_ia/P3_drai_nasr-edine/ia_project_3_env:\n",
      "\u001b[42m[ OK ]\u001b[0m Python is version 3.10.4 (main, Jul 17 2022, 13:52:49) [Clang 13.1.6 (clang-1316.0.21.2.5)]\n",
      "\n",
      "\u001b[42m[ OK ]\u001b[0m jupyterlab\n",
      "\u001b[42m[ OK ]\u001b[0m matplotlib\n",
      "\u001b[42m[ OK ]\u001b[0m numpy\n",
      "\u001b[42m[ OK ]\u001b[0m pandas\n",
      "\u001b[42m[ OK ]\u001b[0m seaborn\n",
      "\u001b[42m[ OK ]\u001b[0m statsmodels\n",
      "\u001b[42m[ OK ]\u001b[0m folium\n"
     ]
    }
   ],
   "source": [
    "from srcs.check_environment import run_checks\n",
    "run_checks()"
   ]
  },
  {
   "cell_type": "markdown",
   "id": "dcd0909f-b766-45f1-b936-1f5f6648a775",
   "metadata": {},
   "source": [
    "## Import Python library for data science"
   ]
  },
  {
   "cell_type": "code",
   "execution_count": 5,
   "id": "6517d2a2-34d0-406f-bc05-f5049102cc30",
   "metadata": {
    "collapsed": true,
    "jupyter": {
     "outputs_hidden": true
    },
    "tags": []
   },
   "outputs": [],
   "source": [
    "# Data manipulation\n",
    "\n",
    "# Import the pandas library for data manipulation and analysis\n",
    "import pandas as pd\n",
    "\n",
    "# Import the numpy library for scientific computing and numerical operations\n",
    "import numpy as np \n",
    "\n",
    "# Import the statsmodels library for statistical analysis and modeling\n",
    "import statsmodels.api as sm\n",
    "\n",
    "\n",
    "# Import libraries for data visualization\n",
    "import matplotlib.pyplot as plt \n",
    "import seaborn as sns\n",
    "\n",
    "# import folium\n",
    "# from folium.plugins import HeatMap"
   ]
  },
  {
   "cell_type": "markdown",
   "id": "9f5540b6-dbe5-4cbe-9ab5-53654b9fe74a",
   "metadata": {},
   "source": [
    "## Collecting the data"
   ]
  },
  {
   "cell_type": "markdown",
   "id": "c84952af-f99f-439d-868a-bcdacbc25f23",
   "metadata": {
    "tags": []
   },
   "source": [
    "#### Creating a `DataFrame` by Reading in a CSV File"
   ]
  },
  {
   "cell_type": "markdown",
   "id": "e094de56-4d66-4a80-9234-5617d768ed46",
   "metadata": {},
   "source": [
    "We will read in a CSV file using `pandas`. "
   ]
  },
  {
   "cell_type": "code",
   "execution_count": 6,
   "id": "b0ed51fe-bf42-4c11-babb-23079c795384",
   "metadata": {
    "collapsed": true,
    "jupyter": {
     "outputs_hidden": true
    }
   },
   "outputs": [
    {
     "name": "stderr",
     "output_type": "stream",
     "text": [
      "/var/folders/2y/42rcpdbd4hn6jhp9z8pq2nz40000gn/T/ipykernel_26454/2623078973.py:1: DtypeWarning: Columns (0,3,5,19,20,24,25,26,27,28,35,36,37,38,39,48) have mixed types. Specify dtype option on import or set low_memory=False.\n",
      "  data = pd.read_csv(\"../data/test.csv\", sep=\"\\t\")\n"
     ]
    }
   ],
   "source": [
    "data = pd.read_csv(\"../data/test.csv\", sep=\"\\t\")"
   ]
  },
  {
   "cell_type": "markdown",
   "id": "bba7d53c-133a-46de-a457-729580b6f651",
   "metadata": {
    "tags": []
   },
   "source": [
    "<div class=\"alert alert-warning\">\n",
    "The warning indicates that a data file or dataset contains columns with mixed data types, which can cause problems when working with the data. The warning suggests specifying the data type for each column or setting the \"low_memory\" option to \"False\" to avoid potential problems.\n",
    "</div>"
   ]
  },
  {
   "cell_type": "code",
   "execution_count": 7,
   "id": "b90c4174-d5f9-45c6-8f95-bde8744b2df3",
   "metadata": {
    "tags": []
   },
   "outputs": [],
   "source": [
    "data = pd.read_csv(\"../data/test.csv\", sep=\"\\t\", low_memory=False)"
   ]
  },
  {
   "cell_type": "markdown",
   "id": "7ec4d475-3e6e-4c2b-89a1-231857f72320",
   "metadata": {},
   "source": [
    "## Quick Examining dataframe"
   ]
  },
  {
   "cell_type": "markdown",
   "id": "cb6c20ca-fd72-4bfe-93ba-035e072446ba",
   "metadata": {},
   "source": [
    "#### Is it empty?"
   ]
  },
  {
   "cell_type": "code",
   "execution_count": 8,
   "id": "7a05a699-90e9-4c28-8bcd-e422a6237499",
   "metadata": {
    "collapsed": true,
    "jupyter": {
     "outputs_hidden": true
    }
   },
   "outputs": [
    {
     "name": "stdout",
     "output_type": "stream",
     "text": [
      "The DataFrame is not empty.\n"
     ]
    }
   ],
   "source": [
    "if data.empty:\n",
    "    print(\"The DataFrame is empty.\")\n",
    "else:\n",
    "    print(\"The DataFrame is not empty.\")"
   ]
  },
  {
   "cell_type": "markdown",
   "id": "37ecaa31-51ab-4bc4-853c-e5bbd90bc680",
   "metadata": {},
   "source": [
    "#### What are the dimensions?"
   ]
  },
  {
   "cell_type": "markdown",
   "id": "c199b0fb-566f-4256-8cbf-6578cc901bbe",
   "metadata": {},
   "source": [
    "We find the dimensions with the `shape` attribute as (rows, columns)."
   ]
  },
  {
   "cell_type": "code",
   "execution_count": 9,
   "id": "76559d6c-370c-47ad-a072-31e1f15e0c29",
   "metadata": {
    "tags": []
   },
   "outputs": [
    {
     "data": {
      "text/plain": [
       "(320772, 162)"
      ]
     },
     "execution_count": 9,
     "metadata": {},
     "output_type": "execute_result"
    }
   ],
   "source": [
    "data.shape"
   ]
  },
  {
   "cell_type": "markdown",
   "id": "4a5727a9-654f-49e7-ad9d-1016634d11bb",
   "metadata": {},
   "source": [
    "#### What columns do we have?"
   ]
  },
  {
   "cell_type": "code",
   "execution_count": 10,
   "id": "496afe14-220b-41d7-8712-cde35ad1b440",
   "metadata": {
    "tags": []
   },
   "outputs": [
    {
     "name": "stdout",
     "output_type": "stream",
     "text": [
      "code\n",
      "url\n",
      "creator\n",
      "created_t\n",
      "created_datetime\n",
      "last_modified_t\n",
      "last_modified_datetime\n",
      "product_name\n",
      "generic_name\n",
      "quantity\n",
      "packaging\n",
      "packaging_tags\n",
      "brands\n",
      "brands_tags\n",
      "categories\n",
      "categories_tags\n",
      "categories_fr\n",
      "origins\n",
      "origins_tags\n",
      "manufacturing_places\n",
      "manufacturing_places_tags\n",
      "labels\n",
      "labels_tags\n",
      "labels_fr\n",
      "emb_codes\n",
      "emb_codes_tags\n",
      "first_packaging_code_geo\n",
      "cities\n",
      "cities_tags\n",
      "purchase_places\n",
      "stores\n",
      "countries\n",
      "countries_tags\n",
      "countries_fr\n",
      "ingredients_text\n",
      "allergens\n",
      "allergens_fr\n",
      "traces\n",
      "traces_tags\n",
      "traces_fr\n",
      "serving_size\n",
      "no_nutriments\n",
      "additives_n\n",
      "additives\n",
      "additives_tags\n",
      "additives_fr\n",
      "ingredients_from_palm_oil_n\n",
      "ingredients_from_palm_oil\n",
      "ingredients_from_palm_oil_tags\n",
      "ingredients_that_may_be_from_palm_oil_n\n",
      "ingredients_that_may_be_from_palm_oil\n",
      "ingredients_that_may_be_from_palm_oil_tags\n",
      "nutrition_grade_uk\n",
      "nutrition_grade_fr\n",
      "pnns_groups_1\n",
      "pnns_groups_2\n",
      "states\n",
      "states_tags\n",
      "states_fr\n",
      "main_category\n",
      "main_category_fr\n",
      "image_url\n",
      "image_small_url\n",
      "energy_100g\n",
      "energy-from-fat_100g\n",
      "fat_100g\n",
      "saturated-fat_100g\n",
      "butyric-acid_100g\n",
      "caproic-acid_100g\n",
      "caprylic-acid_100g\n",
      "capric-acid_100g\n",
      "lauric-acid_100g\n",
      "myristic-acid_100g\n",
      "palmitic-acid_100g\n",
      "stearic-acid_100g\n",
      "arachidic-acid_100g\n",
      "behenic-acid_100g\n",
      "lignoceric-acid_100g\n",
      "cerotic-acid_100g\n",
      "montanic-acid_100g\n",
      "melissic-acid_100g\n",
      "monounsaturated-fat_100g\n",
      "polyunsaturated-fat_100g\n",
      "omega-3-fat_100g\n",
      "alpha-linolenic-acid_100g\n",
      "eicosapentaenoic-acid_100g\n",
      "docosahexaenoic-acid_100g\n",
      "omega-6-fat_100g\n",
      "linoleic-acid_100g\n",
      "arachidonic-acid_100g\n",
      "gamma-linolenic-acid_100g\n",
      "dihomo-gamma-linolenic-acid_100g\n",
      "omega-9-fat_100g\n",
      "oleic-acid_100g\n",
      "elaidic-acid_100g\n",
      "gondoic-acid_100g\n",
      "mead-acid_100g\n",
      "erucic-acid_100g\n",
      "nervonic-acid_100g\n",
      "trans-fat_100g\n",
      "cholesterol_100g\n",
      "carbohydrates_100g\n",
      "sugars_100g\n",
      "sucrose_100g\n",
      "glucose_100g\n",
      "fructose_100g\n",
      "lactose_100g\n",
      "maltose_100g\n",
      "maltodextrins_100g\n",
      "starch_100g\n",
      "polyols_100g\n",
      "fiber_100g\n",
      "proteins_100g\n",
      "casein_100g\n",
      "serum-proteins_100g\n",
      "nucleotides_100g\n",
      "salt_100g\n",
      "sodium_100g\n",
      "alcohol_100g\n",
      "vitamin-a_100g\n",
      "beta-carotene_100g\n",
      "vitamin-d_100g\n",
      "vitamin-e_100g\n",
      "vitamin-k_100g\n",
      "vitamin-c_100g\n",
      "vitamin-b1_100g\n",
      "vitamin-b2_100g\n",
      "vitamin-pp_100g\n",
      "vitamin-b6_100g\n",
      "vitamin-b9_100g\n",
      "folates_100g\n",
      "vitamin-b12_100g\n",
      "biotin_100g\n",
      "pantothenic-acid_100g\n",
      "silica_100g\n",
      "bicarbonate_100g\n",
      "potassium_100g\n",
      "chloride_100g\n",
      "calcium_100g\n",
      "phosphorus_100g\n",
      "iron_100g\n",
      "magnesium_100g\n",
      "zinc_100g\n",
      "copper_100g\n",
      "manganese_100g\n",
      "fluoride_100g\n",
      "selenium_100g\n",
      "chromium_100g\n",
      "molybdenum_100g\n",
      "iodine_100g\n",
      "caffeine_100g\n",
      "taurine_100g\n",
      "ph_100g\n",
      "fruits-vegetables-nuts_100g\n",
      "collagen-meat-protein-ratio_100g\n",
      "cocoa_100g\n",
      "chlorophyl_100g\n",
      "carbon-footprint_100g\n",
      "nutrition-score-fr_100g\n",
      "nutrition-score-uk_100g\n",
      "glycemic-index_100g\n",
      "water-hardness_100g\n"
     ]
    }
   ],
   "source": [
    "columns = data.columns\n",
    "for column in columns:\n",
    "    print(column)"
   ]
  },
  {
   "cell_type": "markdown",
   "id": "599835d5-987b-4cf4-a6f3-4ca5a0417733",
   "metadata": {},
   "source": [
    "#### What data types do we have?"
   ]
  },
  {
   "cell_type": "markdown",
   "id": "34d41ff8-e5bd-4686-85fd-0939f5b0e85e",
   "metadata": {},
   "source": [
    "We find the data types with the `dtypes` attribute:"
   ]
  },
  {
   "cell_type": "code",
   "execution_count": 11,
   "id": "175297ad-2f5b-4f65-8744-697655c97f62",
   "metadata": {
    "tags": []
   },
   "outputs": [
    {
     "name": "stdout",
     "output_type": "stream",
     "text": [
      "[dtype('O') dtype('float64')]\n"
     ]
    }
   ],
   "source": [
    "# Print the different data types in the DataFrame\n",
    "print(data.dtypes.unique())"
   ]
  },
  {
   "cell_type": "code",
   "execution_count": 12,
   "id": "c84d412a-07a8-4298-8fa9-dec58c257a6f",
   "metadata": {
    "collapsed": true,
    "jupyter": {
     "outputs_hidden": true
    }
   },
   "outputs": [
    {
     "data": {
      "text/plain": [
       "code                        object\n",
       "url                         object\n",
       "creator                     object\n",
       "created_t                   object\n",
       "created_datetime            object\n",
       "                            ...   \n",
       "carbon-footprint_100g      float64\n",
       "nutrition-score-fr_100g    float64\n",
       "nutrition-score-uk_100g    float64\n",
       "glycemic-index_100g        float64\n",
       "water-hardness_100g        float64\n",
       "Length: 162, dtype: object"
      ]
     },
     "execution_count": 12,
     "metadata": {},
     "output_type": "execute_result"
    }
   ],
   "source": [
    "data.dtypes"
   ]
  },
  {
   "cell_type": "markdown",
   "id": "c773783d-3680-4198-a7e5-cc0367a39f6f",
   "metadata": {},
   "source": [
    "#### What does the data look like?"
   ]
  },
  {
   "cell_type": "markdown",
   "id": "3af54421-a33a-4466-9914-2f2df2a8f732",
   "metadata": {},
   "source": [
    "View rows from the top with `head()`:"
   ]
  },
  {
   "cell_type": "code",
   "execution_count": 13,
   "id": "427e0fcb-4ebe-42f6-9cde-60f7a90d96a1",
   "metadata": {
    "collapsed": true,
    "jupyter": {
     "outputs_hidden": true
    },
    "tags": []
   },
   "outputs": [
    {
     "data": {
      "text/html": [
       "<div>\n",
       "<style scoped>\n",
       "    .dataframe tbody tr th:only-of-type {\n",
       "        vertical-align: middle;\n",
       "    }\n",
       "\n",
       "    .dataframe tbody tr th {\n",
       "        vertical-align: top;\n",
       "    }\n",
       "\n",
       "    .dataframe thead th {\n",
       "        text-align: right;\n",
       "    }\n",
       "</style>\n",
       "<table border=\"1\" class=\"dataframe\">\n",
       "  <thead>\n",
       "    <tr style=\"text-align: right;\">\n",
       "      <th></th>\n",
       "      <th>code</th>\n",
       "      <th>url</th>\n",
       "      <th>creator</th>\n",
       "      <th>created_t</th>\n",
       "      <th>created_datetime</th>\n",
       "      <th>last_modified_t</th>\n",
       "      <th>last_modified_datetime</th>\n",
       "      <th>product_name</th>\n",
       "      <th>generic_name</th>\n",
       "      <th>quantity</th>\n",
       "      <th>...</th>\n",
       "      <th>ph_100g</th>\n",
       "      <th>fruits-vegetables-nuts_100g</th>\n",
       "      <th>collagen-meat-protein-ratio_100g</th>\n",
       "      <th>cocoa_100g</th>\n",
       "      <th>chlorophyl_100g</th>\n",
       "      <th>carbon-footprint_100g</th>\n",
       "      <th>nutrition-score-fr_100g</th>\n",
       "      <th>nutrition-score-uk_100g</th>\n",
       "      <th>glycemic-index_100g</th>\n",
       "      <th>water-hardness_100g</th>\n",
       "    </tr>\n",
       "  </thead>\n",
       "  <tbody>\n",
       "    <tr>\n",
       "      <th>0</th>\n",
       "      <td>0000000003087</td>\n",
       "      <td>http://world-fr.openfoodfacts.org/produit/0000...</td>\n",
       "      <td>openfoodfacts-contributors</td>\n",
       "      <td>1474103866</td>\n",
       "      <td>2016-09-17T09:17:46Z</td>\n",
       "      <td>1474103893</td>\n",
       "      <td>2016-09-17T09:18:13Z</td>\n",
       "      <td>Farine de blé noir</td>\n",
       "      <td>NaN</td>\n",
       "      <td>1kg</td>\n",
       "      <td>...</td>\n",
       "      <td>NaN</td>\n",
       "      <td>NaN</td>\n",
       "      <td>NaN</td>\n",
       "      <td>NaN</td>\n",
       "      <td>NaN</td>\n",
       "      <td>NaN</td>\n",
       "      <td>NaN</td>\n",
       "      <td>NaN</td>\n",
       "      <td>NaN</td>\n",
       "      <td>NaN</td>\n",
       "    </tr>\n",
       "    <tr>\n",
       "      <th>1</th>\n",
       "      <td>0000000004530</td>\n",
       "      <td>http://world-fr.openfoodfacts.org/produit/0000...</td>\n",
       "      <td>usda-ndb-import</td>\n",
       "      <td>1489069957</td>\n",
       "      <td>2017-03-09T14:32:37Z</td>\n",
       "      <td>1489069957</td>\n",
       "      <td>2017-03-09T14:32:37Z</td>\n",
       "      <td>Banana Chips Sweetened (Whole)</td>\n",
       "      <td>NaN</td>\n",
       "      <td>NaN</td>\n",
       "      <td>...</td>\n",
       "      <td>NaN</td>\n",
       "      <td>NaN</td>\n",
       "      <td>NaN</td>\n",
       "      <td>NaN</td>\n",
       "      <td>NaN</td>\n",
       "      <td>NaN</td>\n",
       "      <td>14.0</td>\n",
       "      <td>14.0</td>\n",
       "      <td>NaN</td>\n",
       "      <td>NaN</td>\n",
       "    </tr>\n",
       "    <tr>\n",
       "      <th>2</th>\n",
       "      <td>0000000004559</td>\n",
       "      <td>http://world-fr.openfoodfacts.org/produit/0000...</td>\n",
       "      <td>usda-ndb-import</td>\n",
       "      <td>1489069957</td>\n",
       "      <td>2017-03-09T14:32:37Z</td>\n",
       "      <td>1489069957</td>\n",
       "      <td>2017-03-09T14:32:37Z</td>\n",
       "      <td>Peanuts</td>\n",
       "      <td>NaN</td>\n",
       "      <td>NaN</td>\n",
       "      <td>...</td>\n",
       "      <td>NaN</td>\n",
       "      <td>NaN</td>\n",
       "      <td>NaN</td>\n",
       "      <td>NaN</td>\n",
       "      <td>NaN</td>\n",
       "      <td>NaN</td>\n",
       "      <td>0.0</td>\n",
       "      <td>0.0</td>\n",
       "      <td>NaN</td>\n",
       "      <td>NaN</td>\n",
       "    </tr>\n",
       "    <tr>\n",
       "      <th>3</th>\n",
       "      <td>0000000016087</td>\n",
       "      <td>http://world-fr.openfoodfacts.org/produit/0000...</td>\n",
       "      <td>usda-ndb-import</td>\n",
       "      <td>1489055731</td>\n",
       "      <td>2017-03-09T10:35:31Z</td>\n",
       "      <td>1489055731</td>\n",
       "      <td>2017-03-09T10:35:31Z</td>\n",
       "      <td>Organic Salted Nut Mix</td>\n",
       "      <td>NaN</td>\n",
       "      <td>NaN</td>\n",
       "      <td>...</td>\n",
       "      <td>NaN</td>\n",
       "      <td>NaN</td>\n",
       "      <td>NaN</td>\n",
       "      <td>NaN</td>\n",
       "      <td>NaN</td>\n",
       "      <td>NaN</td>\n",
       "      <td>12.0</td>\n",
       "      <td>12.0</td>\n",
       "      <td>NaN</td>\n",
       "      <td>NaN</td>\n",
       "    </tr>\n",
       "    <tr>\n",
       "      <th>4</th>\n",
       "      <td>0000000016094</td>\n",
       "      <td>http://world-fr.openfoodfacts.org/produit/0000...</td>\n",
       "      <td>usda-ndb-import</td>\n",
       "      <td>1489055653</td>\n",
       "      <td>2017-03-09T10:34:13Z</td>\n",
       "      <td>1489055653</td>\n",
       "      <td>2017-03-09T10:34:13Z</td>\n",
       "      <td>Organic Polenta</td>\n",
       "      <td>NaN</td>\n",
       "      <td>NaN</td>\n",
       "      <td>...</td>\n",
       "      <td>NaN</td>\n",
       "      <td>NaN</td>\n",
       "      <td>NaN</td>\n",
       "      <td>NaN</td>\n",
       "      <td>NaN</td>\n",
       "      <td>NaN</td>\n",
       "      <td>NaN</td>\n",
       "      <td>NaN</td>\n",
       "      <td>NaN</td>\n",
       "      <td>NaN</td>\n",
       "    </tr>\n",
       "  </tbody>\n",
       "</table>\n",
       "<p>5 rows × 162 columns</p>\n",
       "</div>"
      ],
      "text/plain": [
       "            code                                                url  \\\n",
       "0  0000000003087  http://world-fr.openfoodfacts.org/produit/0000...   \n",
       "1  0000000004530  http://world-fr.openfoodfacts.org/produit/0000...   \n",
       "2  0000000004559  http://world-fr.openfoodfacts.org/produit/0000...   \n",
       "3  0000000016087  http://world-fr.openfoodfacts.org/produit/0000...   \n",
       "4  0000000016094  http://world-fr.openfoodfacts.org/produit/0000...   \n",
       "\n",
       "                      creator   created_t      created_datetime  \\\n",
       "0  openfoodfacts-contributors  1474103866  2016-09-17T09:17:46Z   \n",
       "1             usda-ndb-import  1489069957  2017-03-09T14:32:37Z   \n",
       "2             usda-ndb-import  1489069957  2017-03-09T14:32:37Z   \n",
       "3             usda-ndb-import  1489055731  2017-03-09T10:35:31Z   \n",
       "4             usda-ndb-import  1489055653  2017-03-09T10:34:13Z   \n",
       "\n",
       "  last_modified_t last_modified_datetime                    product_name  \\\n",
       "0      1474103893   2016-09-17T09:18:13Z              Farine de blé noir   \n",
       "1      1489069957   2017-03-09T14:32:37Z  Banana Chips Sweetened (Whole)   \n",
       "2      1489069957   2017-03-09T14:32:37Z                         Peanuts   \n",
       "3      1489055731   2017-03-09T10:35:31Z          Organic Salted Nut Mix   \n",
       "4      1489055653   2017-03-09T10:34:13Z                 Organic Polenta   \n",
       "\n",
       "  generic_name quantity  ... ph_100g fruits-vegetables-nuts_100g  \\\n",
       "0          NaN      1kg  ...     NaN                         NaN   \n",
       "1          NaN      NaN  ...     NaN                         NaN   \n",
       "2          NaN      NaN  ...     NaN                         NaN   \n",
       "3          NaN      NaN  ...     NaN                         NaN   \n",
       "4          NaN      NaN  ...     NaN                         NaN   \n",
       "\n",
       "  collagen-meat-protein-ratio_100g cocoa_100g chlorophyl_100g  \\\n",
       "0                              NaN        NaN             NaN   \n",
       "1                              NaN        NaN             NaN   \n",
       "2                              NaN        NaN             NaN   \n",
       "3                              NaN        NaN             NaN   \n",
       "4                              NaN        NaN             NaN   \n",
       "\n",
       "  carbon-footprint_100g nutrition-score-fr_100g nutrition-score-uk_100g  \\\n",
       "0                   NaN                     NaN                     NaN   \n",
       "1                   NaN                    14.0                    14.0   \n",
       "2                   NaN                     0.0                     0.0   \n",
       "3                   NaN                    12.0                    12.0   \n",
       "4                   NaN                     NaN                     NaN   \n",
       "\n",
       "  glycemic-index_100g water-hardness_100g  \n",
       "0                 NaN                 NaN  \n",
       "1                 NaN                 NaN  \n",
       "2                 NaN                 NaN  \n",
       "3                 NaN                 NaN  \n",
       "4                 NaN                 NaN  \n",
       "\n",
       "[5 rows x 162 columns]"
      ]
     },
     "execution_count": 13,
     "metadata": {},
     "output_type": "execute_result"
    }
   ],
   "source": [
    "data.head()"
   ]
  },
  {
   "cell_type": "markdown",
   "id": "ece172c5-ff8d-4665-9591-202f8e44715c",
   "metadata": {},
   "source": [
    "## Describing and Summarizing"
   ]
  },
  {
   "cell_type": "markdown",
   "id": "4bc313f5-c2c2-4edb-b187-27c99ffe8d0c",
   "metadata": {},
   "source": [
    "#### Get summary statistics"
   ]
  },
  {
   "cell_type": "markdown",
   "id": "7459996c-d83d-40ae-a468-aa97536d43dc",
   "metadata": {},
   "source": [
    "Let's start by printing out some summary statistics about the data set."
   ]
  },
  {
   "cell_type": "code",
   "execution_count": 14,
   "id": "1d135c0f-302b-4e4a-8666-956a5a1b361f",
   "metadata": {
    "collapsed": true,
    "jupyter": {
     "outputs_hidden": true
    }
   },
   "outputs": [
    {
     "data": {
      "text/html": [
       "<div>\n",
       "<style scoped>\n",
       "    .dataframe tbody tr th:only-of-type {\n",
       "        vertical-align: middle;\n",
       "    }\n",
       "\n",
       "    .dataframe tbody tr th {\n",
       "        vertical-align: top;\n",
       "    }\n",
       "\n",
       "    .dataframe thead th {\n",
       "        text-align: right;\n",
       "    }\n",
       "</style>\n",
       "<table border=\"1\" class=\"dataframe\">\n",
       "  <thead>\n",
       "    <tr style=\"text-align: right;\">\n",
       "      <th></th>\n",
       "      <th>no_nutriments</th>\n",
       "      <th>additives_n</th>\n",
       "      <th>ingredients_from_palm_oil_n</th>\n",
       "      <th>ingredients_from_palm_oil</th>\n",
       "      <th>ingredients_that_may_be_from_palm_oil_n</th>\n",
       "      <th>ingredients_that_may_be_from_palm_oil</th>\n",
       "      <th>nutrition_grade_uk</th>\n",
       "      <th>energy_100g</th>\n",
       "      <th>energy-from-fat_100g</th>\n",
       "      <th>fat_100g</th>\n",
       "      <th>...</th>\n",
       "      <th>ph_100g</th>\n",
       "      <th>fruits-vegetables-nuts_100g</th>\n",
       "      <th>collagen-meat-protein-ratio_100g</th>\n",
       "      <th>cocoa_100g</th>\n",
       "      <th>chlorophyl_100g</th>\n",
       "      <th>carbon-footprint_100g</th>\n",
       "      <th>nutrition-score-fr_100g</th>\n",
       "      <th>nutrition-score-uk_100g</th>\n",
       "      <th>glycemic-index_100g</th>\n",
       "      <th>water-hardness_100g</th>\n",
       "    </tr>\n",
       "  </thead>\n",
       "  <tbody>\n",
       "    <tr>\n",
       "      <th>count</th>\n",
       "      <td>0.0</td>\n",
       "      <td>248939.000000</td>\n",
       "      <td>248939.000000</td>\n",
       "      <td>0.0</td>\n",
       "      <td>248939.000000</td>\n",
       "      <td>0.0</td>\n",
       "      <td>0.0</td>\n",
       "      <td>2.611130e+05</td>\n",
       "      <td>857.000000</td>\n",
       "      <td>243891.000000</td>\n",
       "      <td>...</td>\n",
       "      <td>49.000000</td>\n",
       "      <td>3036.000000</td>\n",
       "      <td>165.000000</td>\n",
       "      <td>948.000000</td>\n",
       "      <td>0.0</td>\n",
       "      <td>268.000000</td>\n",
       "      <td>221210.000000</td>\n",
       "      <td>221210.000000</td>\n",
       "      <td>0.0</td>\n",
       "      <td>0.0</td>\n",
       "    </tr>\n",
       "    <tr>\n",
       "      <th>mean</th>\n",
       "      <td>NaN</td>\n",
       "      <td>1.936024</td>\n",
       "      <td>0.019659</td>\n",
       "      <td>NaN</td>\n",
       "      <td>0.055246</td>\n",
       "      <td>NaN</td>\n",
       "      <td>NaN</td>\n",
       "      <td>1.141915e+03</td>\n",
       "      <td>585.501214</td>\n",
       "      <td>12.730379</td>\n",
       "      <td>...</td>\n",
       "      <td>6.425698</td>\n",
       "      <td>31.458587</td>\n",
       "      <td>15.412121</td>\n",
       "      <td>49.547785</td>\n",
       "      <td>NaN</td>\n",
       "      <td>341.700764</td>\n",
       "      <td>9.165535</td>\n",
       "      <td>9.058049</td>\n",
       "      <td>NaN</td>\n",
       "      <td>NaN</td>\n",
       "    </tr>\n",
       "    <tr>\n",
       "      <th>std</th>\n",
       "      <td>NaN</td>\n",
       "      <td>2.502019</td>\n",
       "      <td>0.140524</td>\n",
       "      <td>NaN</td>\n",
       "      <td>0.269207</td>\n",
       "      <td>NaN</td>\n",
       "      <td>NaN</td>\n",
       "      <td>6.447154e+03</td>\n",
       "      <td>712.809943</td>\n",
       "      <td>17.578747</td>\n",
       "      <td>...</td>\n",
       "      <td>2.047841</td>\n",
       "      <td>31.967918</td>\n",
       "      <td>3.753028</td>\n",
       "      <td>18.757932</td>\n",
       "      <td>NaN</td>\n",
       "      <td>425.211439</td>\n",
       "      <td>9.055903</td>\n",
       "      <td>9.183589</td>\n",
       "      <td>NaN</td>\n",
       "      <td>NaN</td>\n",
       "    </tr>\n",
       "    <tr>\n",
       "      <th>min</th>\n",
       "      <td>NaN</td>\n",
       "      <td>0.000000</td>\n",
       "      <td>0.000000</td>\n",
       "      <td>NaN</td>\n",
       "      <td>0.000000</td>\n",
       "      <td>NaN</td>\n",
       "      <td>NaN</td>\n",
       "      <td>0.000000e+00</td>\n",
       "      <td>0.000000</td>\n",
       "      <td>0.000000</td>\n",
       "      <td>...</td>\n",
       "      <td>0.000000</td>\n",
       "      <td>0.000000</td>\n",
       "      <td>8.000000</td>\n",
       "      <td>6.000000</td>\n",
       "      <td>NaN</td>\n",
       "      <td>0.000000</td>\n",
       "      <td>-15.000000</td>\n",
       "      <td>-15.000000</td>\n",
       "      <td>NaN</td>\n",
       "      <td>NaN</td>\n",
       "    </tr>\n",
       "    <tr>\n",
       "      <th>25%</th>\n",
       "      <td>NaN</td>\n",
       "      <td>0.000000</td>\n",
       "      <td>0.000000</td>\n",
       "      <td>NaN</td>\n",
       "      <td>0.000000</td>\n",
       "      <td>NaN</td>\n",
       "      <td>NaN</td>\n",
       "      <td>3.770000e+02</td>\n",
       "      <td>49.400000</td>\n",
       "      <td>0.000000</td>\n",
       "      <td>...</td>\n",
       "      <td>6.300000</td>\n",
       "      <td>0.000000</td>\n",
       "      <td>12.000000</td>\n",
       "      <td>32.000000</td>\n",
       "      <td>NaN</td>\n",
       "      <td>98.750000</td>\n",
       "      <td>1.000000</td>\n",
       "      <td>1.000000</td>\n",
       "      <td>NaN</td>\n",
       "      <td>NaN</td>\n",
       "    </tr>\n",
       "    <tr>\n",
       "      <th>50%</th>\n",
       "      <td>NaN</td>\n",
       "      <td>1.000000</td>\n",
       "      <td>0.000000</td>\n",
       "      <td>NaN</td>\n",
       "      <td>0.000000</td>\n",
       "      <td>NaN</td>\n",
       "      <td>NaN</td>\n",
       "      <td>1.100000e+03</td>\n",
       "      <td>300.000000</td>\n",
       "      <td>5.000000</td>\n",
       "      <td>...</td>\n",
       "      <td>7.200000</td>\n",
       "      <td>23.000000</td>\n",
       "      <td>15.000000</td>\n",
       "      <td>50.000000</td>\n",
       "      <td>NaN</td>\n",
       "      <td>195.750000</td>\n",
       "      <td>10.000000</td>\n",
       "      <td>9.000000</td>\n",
       "      <td>NaN</td>\n",
       "      <td>NaN</td>\n",
       "    </tr>\n",
       "    <tr>\n",
       "      <th>75%</th>\n",
       "      <td>NaN</td>\n",
       "      <td>3.000000</td>\n",
       "      <td>0.000000</td>\n",
       "      <td>NaN</td>\n",
       "      <td>0.000000</td>\n",
       "      <td>NaN</td>\n",
       "      <td>NaN</td>\n",
       "      <td>1.674000e+03</td>\n",
       "      <td>898.000000</td>\n",
       "      <td>20.000000</td>\n",
       "      <td>...</td>\n",
       "      <td>7.400000</td>\n",
       "      <td>51.000000</td>\n",
       "      <td>15.000000</td>\n",
       "      <td>64.250000</td>\n",
       "      <td>NaN</td>\n",
       "      <td>383.200000</td>\n",
       "      <td>16.000000</td>\n",
       "      <td>16.000000</td>\n",
       "      <td>NaN</td>\n",
       "      <td>NaN</td>\n",
       "    </tr>\n",
       "    <tr>\n",
       "      <th>max</th>\n",
       "      <td>NaN</td>\n",
       "      <td>31.000000</td>\n",
       "      <td>2.000000</td>\n",
       "      <td>NaN</td>\n",
       "      <td>6.000000</td>\n",
       "      <td>NaN</td>\n",
       "      <td>NaN</td>\n",
       "      <td>3.251373e+06</td>\n",
       "      <td>3830.000000</td>\n",
       "      <td>714.290000</td>\n",
       "      <td>...</td>\n",
       "      <td>8.400000</td>\n",
       "      <td>100.000000</td>\n",
       "      <td>25.000000</td>\n",
       "      <td>100.000000</td>\n",
       "      <td>NaN</td>\n",
       "      <td>2842.000000</td>\n",
       "      <td>40.000000</td>\n",
       "      <td>40.000000</td>\n",
       "      <td>NaN</td>\n",
       "      <td>NaN</td>\n",
       "    </tr>\n",
       "  </tbody>\n",
       "</table>\n",
       "<p>8 rows × 106 columns</p>\n",
       "</div>"
      ],
      "text/plain": [
       "       no_nutriments    additives_n  ingredients_from_palm_oil_n  \\\n",
       "count            0.0  248939.000000                248939.000000   \n",
       "mean             NaN       1.936024                     0.019659   \n",
       "std              NaN       2.502019                     0.140524   \n",
       "min              NaN       0.000000                     0.000000   \n",
       "25%              NaN       0.000000                     0.000000   \n",
       "50%              NaN       1.000000                     0.000000   \n",
       "75%              NaN       3.000000                     0.000000   \n",
       "max              NaN      31.000000                     2.000000   \n",
       "\n",
       "       ingredients_from_palm_oil  ingredients_that_may_be_from_palm_oil_n  \\\n",
       "count                        0.0                            248939.000000   \n",
       "mean                         NaN                                 0.055246   \n",
       "std                          NaN                                 0.269207   \n",
       "min                          NaN                                 0.000000   \n",
       "25%                          NaN                                 0.000000   \n",
       "50%                          NaN                                 0.000000   \n",
       "75%                          NaN                                 0.000000   \n",
       "max                          NaN                                 6.000000   \n",
       "\n",
       "       ingredients_that_may_be_from_palm_oil  nutrition_grade_uk  \\\n",
       "count                                    0.0                 0.0   \n",
       "mean                                     NaN                 NaN   \n",
       "std                                      NaN                 NaN   \n",
       "min                                      NaN                 NaN   \n",
       "25%                                      NaN                 NaN   \n",
       "50%                                      NaN                 NaN   \n",
       "75%                                      NaN                 NaN   \n",
       "max                                      NaN                 NaN   \n",
       "\n",
       "        energy_100g  energy-from-fat_100g       fat_100g  ...    ph_100g  \\\n",
       "count  2.611130e+05            857.000000  243891.000000  ...  49.000000   \n",
       "mean   1.141915e+03            585.501214      12.730379  ...   6.425698   \n",
       "std    6.447154e+03            712.809943      17.578747  ...   2.047841   \n",
       "min    0.000000e+00              0.000000       0.000000  ...   0.000000   \n",
       "25%    3.770000e+02             49.400000       0.000000  ...   6.300000   \n",
       "50%    1.100000e+03            300.000000       5.000000  ...   7.200000   \n",
       "75%    1.674000e+03            898.000000      20.000000  ...   7.400000   \n",
       "max    3.251373e+06           3830.000000     714.290000  ...   8.400000   \n",
       "\n",
       "       fruits-vegetables-nuts_100g  collagen-meat-protein-ratio_100g  \\\n",
       "count                  3036.000000                        165.000000   \n",
       "mean                     31.458587                         15.412121   \n",
       "std                      31.967918                          3.753028   \n",
       "min                       0.000000                          8.000000   \n",
       "25%                       0.000000                         12.000000   \n",
       "50%                      23.000000                         15.000000   \n",
       "75%                      51.000000                         15.000000   \n",
       "max                     100.000000                         25.000000   \n",
       "\n",
       "       cocoa_100g  chlorophyl_100g  carbon-footprint_100g  \\\n",
       "count  948.000000              0.0             268.000000   \n",
       "mean    49.547785              NaN             341.700764   \n",
       "std     18.757932              NaN             425.211439   \n",
       "min      6.000000              NaN               0.000000   \n",
       "25%     32.000000              NaN              98.750000   \n",
       "50%     50.000000              NaN             195.750000   \n",
       "75%     64.250000              NaN             383.200000   \n",
       "max    100.000000              NaN            2842.000000   \n",
       "\n",
       "       nutrition-score-fr_100g  nutrition-score-uk_100g  glycemic-index_100g  \\\n",
       "count            221210.000000            221210.000000                  0.0   \n",
       "mean                  9.165535                 9.058049                  NaN   \n",
       "std                   9.055903                 9.183589                  NaN   \n",
       "min                 -15.000000               -15.000000                  NaN   \n",
       "25%                   1.000000                 1.000000                  NaN   \n",
       "50%                  10.000000                 9.000000                  NaN   \n",
       "75%                  16.000000                16.000000                  NaN   \n",
       "max                  40.000000                40.000000                  NaN   \n",
       "\n",
       "       water-hardness_100g  \n",
       "count                  0.0  \n",
       "mean                   NaN  \n",
       "std                    NaN  \n",
       "min                    NaN  \n",
       "25%                    NaN  \n",
       "50%                    NaN  \n",
       "75%                    NaN  \n",
       "max                    NaN  \n",
       "\n",
       "[8 rows x 106 columns]"
      ]
     },
     "execution_count": 14,
     "metadata": {},
     "output_type": "execute_result"
    }
   ],
   "source": [
    "data.describe()"
   ]
  },
  {
   "cell_type": "markdown",
   "id": "a7541387-f112-4d41-b430-018f655381b2",
   "metadata": {},
   "source": [
    "We can see several useful values from this table. For example, we can see that several columns are empty. "
   ]
  },
  {
   "cell_type": "markdown",
   "id": "9b413d32-907a-4b6e-bbbf-ec722d040026",
   "metadata": {},
   "source": [
    "#### Getting extra info and finding nulls"
   ]
  },
  {
   "cell_type": "markdown",
   "id": "dab21dac-6724-466d-bc68-40a557e30082",
   "metadata": {},
   "source": [
    "Let’s print the full summary of the dataframe."
   ]
  },
  {
   "cell_type": "code",
   "execution_count": 16,
   "id": "a5e8f905-3595-4284-ac27-3d43444adc80",
   "metadata": {
    "collapsed": true,
    "jupyter": {
     "outputs_hidden": true
    }
   },
   "outputs": [
    {
     "name": "stdout",
     "output_type": "stream",
     "text": [
      "<class 'pandas.core.frame.DataFrame'>\n",
      "RangeIndex: 320772 entries, 0 to 320771\n",
      "Columns: 162 entries, code to water-hardness_100g\n",
      "dtypes: float64(106), object(56)\n",
      "memory usage: 396.5+ MB\n"
     ]
    }
   ],
   "source": [
    "data.info()"
   ]
  },
  {
   "cell_type": "code",
   "execution_count": 15,
   "id": "77f500d8-60e7-46dd-8c5c-efb3b6c8ed24",
   "metadata": {
    "collapsed": true,
    "jupyter": {
     "outputs_hidden": true
    },
    "tags": []
   },
   "outputs": [
    {
     "data": {
      "text/plain": [
       "['created_t', 'last_modified_t', 'created_datetime', 'last_modified_datetime']"
      ]
     },
     "execution_count": 15,
     "metadata": {},
     "output_type": "execute_result"
    }
   ],
   "source": [
    "unix_time = []\n",
    "iso8601_time = []\n",
    "list_of_tags = []\n",
    "amount_of_a_nutriment_for_100 = []\n",
    "amount_of_a_nutriment_for_1_serving = []\n",
    "for column in columns:\n",
    "    if column.endswith('_t'):\n",
    "        unix_time.append(column)\n",
    "    elif column.endswith('_datetime'): \n",
    "        iso8601_time.append(column)\n",
    "    elif column.endswith('_tags'):\n",
    "        list_of_tags.append(column)\n",
    "    elif column.endswith('_100g'):\n",
    "        amount_of_a_nutriment_for_100.append(column)\n",
    "    elif column.endswith('_serving'):\n",
    "        amount_of_a_nutriment_for_1_serving.append(column)\n",
    "time_columns = unix_time + iso8601_time\n",
    "time_columns"
   ]
  },
  {
   "cell_type": "markdown",
   "id": "43299018-7375-4161-b4e2-c7f3b5b3e815",
   "metadata": {},
   "source": [
    "## Cleaning the data"
   ]
  },
  {
   "cell_type": "markdown",
   "id": "a980ab25-ea58-4b78-b0f5-d8ca0565d414",
   "metadata": {},
   "source": [
    "#### Columns That are empty"
   ]
  },
  {
   "cell_type": "code",
   "execution_count": 17,
   "id": "bc30f48c-d02c-402e-9da8-900e513e3f26",
   "metadata": {
    "collapsed": true,
    "jupyter": {
     "outputs_hidden": true
    }
   },
   "outputs": [
    {
     "data": {
      "text/plain": [
       "['no_nutriments',\n",
       " 'ingredients_from_palm_oil',\n",
       " 'ingredients_that_may_be_from_palm_oil',\n",
       " 'nutrition_grade_uk',\n",
       " 'butyric-acid_100g',\n",
       " 'caproic-acid_100g',\n",
       " 'lignoceric-acid_100g',\n",
       " 'cerotic-acid_100g',\n",
       " 'melissic-acid_100g',\n",
       " 'elaidic-acid_100g',\n",
       " 'mead-acid_100g',\n",
       " 'erucic-acid_100g',\n",
       " 'nervonic-acid_100g',\n",
       " 'chlorophyl_100g',\n",
       " 'glycemic-index_100g',\n",
       " 'water-hardness_100g']"
      ]
     },
     "execution_count": 17,
     "metadata": {},
     "output_type": "execute_result"
    }
   ],
   "source": [
    "# Find the columns where each value is null\n",
    "empty_cols = [col for col in data.columns if data[col].isnull().all()]\n",
    "empty_cols"
   ]
  },
  {
   "cell_type": "code",
   "execution_count": 18,
   "id": "23603c4f-c2b7-424c-94a9-2d4cf4570126",
   "metadata": {
    "collapsed": true,
    "jupyter": {
     "outputs_hidden": true
    }
   },
   "outputs": [],
   "source": [
    "# Drop these columns from the dataframe\n",
    "data.drop(empty_cols, axis=1, inplace=True)"
   ]
  },
  {
   "cell_type": "code",
   "execution_count": 19,
   "id": "ee8c930d-9231-4018-a379-ddafa9ce2938",
   "metadata": {
    "collapsed": true,
    "jupyter": {
     "outputs_hidden": true
    }
   },
   "outputs": [
    {
     "data": {
      "text/plain": [
       "146"
      ]
     },
     "execution_count": 19,
     "metadata": {},
     "output_type": "execute_result"
    }
   ],
   "source": [
    "data.shape[1]"
   ]
  },
  {
   "cell_type": "markdown",
   "id": "c83dca87-a29b-460e-82ce-8e7fa28f3a0a",
   "metadata": {},
   "source": [
    "#### Columns That Contain a Single Value"
   ]
  },
  {
   "cell_type": "code",
   "execution_count": 20,
   "id": "25e8d2b3-56b9-479c-9ef6-1d117cf92c79",
   "metadata": {
    "collapsed": true,
    "jupyter": {
     "outputs_hidden": true
    }
   },
   "outputs": [
    {
     "name": "stdout",
     "output_type": "stream",
     "text": [
      "caprylic-acid_100g\n",
      "myristic-acid_100g\n",
      "palmitic-acid_100g\n",
      "stearic-acid_100g\n",
      "montanic-acid_100g\n"
     ]
    }
   ],
   "source": [
    "# select columns that have only one unique value\n",
    "cols = data.loc[:, data.nunique() == 1].columns\n",
    "for col in cols:\n",
    "    print(col)"
   ]
  },
  {
   "cell_type": "code",
   "execution_count": 21,
   "id": "456a329f-c6bf-42e9-81a6-a18295d03da0",
   "metadata": {
    "collapsed": true,
    "jupyter": {
     "outputs_hidden": true
    }
   },
   "outputs": [
    {
     "data": {
      "text/plain": [
       "array([nan, 7.4])"
      ]
     },
     "execution_count": 21,
     "metadata": {},
     "output_type": "execute_result"
    }
   ],
   "source": [
    "data['caprylic-acid_100g'].unique()"
   ]
  },
  {
   "cell_type": "code",
   "execution_count": 22,
   "id": "d817127e-96d4-447b-964a-11e53dad7ad0",
   "metadata": {
    "collapsed": true,
    "jupyter": {
     "outputs_hidden": true
    }
   },
   "outputs": [
    {
     "data": {
      "text/plain": [
       "array([ nan, 18.9])"
      ]
     },
     "execution_count": 22,
     "metadata": {},
     "output_type": "execute_result"
    }
   ],
   "source": [
    "data['myristic-acid_100g'].unique()"
   ]
  },
  {
   "cell_type": "code",
   "execution_count": 23,
   "id": "6b8ca39d-b60f-4d80-a21c-4fd49d33473e",
   "metadata": {
    "collapsed": true,
    "jupyter": {
     "outputs_hidden": true
    }
   },
   "outputs": [
    {
     "data": {
      "text/plain": [
       "array([nan, 8.1])"
      ]
     },
     "execution_count": 23,
     "metadata": {},
     "output_type": "execute_result"
    }
   ],
   "source": [
    "data['palmitic-acid_100g'].unique()"
   ]
  },
  {
   "cell_type": "code",
   "execution_count": 24,
   "id": "3d929bc3-243e-4a91-8a6e-7a9615bb582f",
   "metadata": {
    "collapsed": true,
    "jupyter": {
     "outputs_hidden": true
    }
   },
   "outputs": [
    {
     "data": {
      "text/plain": [
       "array([nan,  3.])"
      ]
     },
     "execution_count": 24,
     "metadata": {},
     "output_type": "execute_result"
    }
   ],
   "source": [
    "data['stearic-acid_100g'].unique()"
   ]
  },
  {
   "cell_type": "code",
   "execution_count": 25,
   "id": "9a10ae67-d0d0-4e2a-a843-034ad8f2792c",
   "metadata": {
    "collapsed": true,
    "jupyter": {
     "outputs_hidden": true
    }
   },
   "outputs": [
    {
     "data": {
      "text/plain": [
       "(320772, 141)"
      ]
     },
     "execution_count": 25,
     "metadata": {},
     "output_type": "execute_result"
    }
   ],
   "source": [
    "data = data.drop(labels=cols, axis=1)\n",
    "data.shape"
   ]
  },
  {
   "cell_type": "markdown",
   "id": "44ce2abe-89a0-4138-966a-86a9b29532ba",
   "metadata": {},
   "source": [
    "#### Columns That have Very Few Values"
   ]
  },
  {
   "cell_type": "code",
   "execution_count": 26,
   "id": "359842c1-159d-41aa-a064-246ea2dd53df",
   "metadata": {
    "collapsed": true,
    "jupyter": {
     "outputs_hidden": true
    }
   },
   "outputs": [
    {
     "data": {
      "text/plain": [
       "Index(['capric-acid_100g'], dtype='object')"
      ]
     },
     "execution_count": 26,
     "metadata": {},
     "output_type": "execute_result"
    }
   ],
   "source": [
    "# get columns that have only two or fewer unique values\n",
    "cols = data.loc[:, data.nunique() <= 2].columns\n",
    "cols"
   ]
  },
  {
   "cell_type": "code",
   "execution_count": 27,
   "id": "0311fe67-bf15-4aa5-8856-3d99fb4074df",
   "metadata": {
    "collapsed": true,
    "jupyter": {
     "outputs_hidden": true
    }
   },
   "outputs": [
    {
     "data": {
      "text/plain": [
       "array([ nan, 5.88, 6.2 ])"
      ]
     },
     "execution_count": 27,
     "metadata": {},
     "output_type": "execute_result"
    }
   ],
   "source": [
    "data['capric-acid_100g'].unique()"
   ]
  },
  {
   "cell_type": "code",
   "execution_count": 28,
   "id": "c737f488-5042-409c-b5c4-4b871f93ec04",
   "metadata": {
    "collapsed": true,
    "jupyter": {
     "outputs_hidden": true
    }
   },
   "outputs": [
    {
     "data": {
      "text/plain": [
       "0.05120000000000009"
      ]
     },
     "execution_count": 28,
     "metadata": {},
     "output_type": "execute_result"
    }
   ],
   "source": [
    "data['capric-acid_100g'].var()\n"
   ]
  },
  {
   "cell_type": "code",
   "execution_count": 29,
   "id": "32c9e509-729f-4a22-8cf5-2c3aecfa27ed",
   "metadata": {
    "collapsed": true,
    "jupyter": {
     "outputs_hidden": true
    }
   },
   "outputs": [],
   "source": [
    "# drop columns that have only two or fewer unique values\n",
    "data = data.drop(labels=cols, axis=1)\n"
   ]
  },
  {
   "cell_type": "markdown",
   "id": "ea34db4f-5d41-482d-8135-6c9c85f0d568",
   "metadata": {},
   "source": [
    "#### Rows That Contain Duplicate Data"
   ]
  },
  {
   "cell_type": "code",
   "execution_count": 30,
   "id": "a2b07502-3ea9-48a3-be00-a990326602f9",
   "metadata": {
    "collapsed": true,
    "jupyter": {
     "outputs_hidden": true
    }
   },
   "outputs": [],
   "source": [
    "# drop duplicate rows\n",
    "data = data.drop_duplicates()"
   ]
  },
  {
   "cell_type": "code",
   "execution_count": 31,
   "id": "1afe86e1-6188-4c1e-9ad2-ac07b1399e72",
   "metadata": {
    "collapsed": true,
    "jupyter": {
     "outputs_hidden": true
    }
   },
   "outputs": [
    {
     "data": {
      "text/plain": [
       "(320772, 140)"
      ]
     },
     "execution_count": 31,
     "metadata": {},
     "output_type": "execute_result"
    }
   ],
   "source": [
    "data.shape"
   ]
  },
  {
   "cell_type": "code",
   "execution_count": 32,
   "id": "9dca735e-2f60-404f-9eb4-f65d9120345d",
   "metadata": {
    "collapsed": true,
    "jupyter": {
     "outputs_hidden": true
    },
    "tags": []
   },
   "outputs": [
    {
     "name": "stdout",
     "output_type": "stream",
     "text": [
      "code\n",
      "url\n",
      "creator\n",
      "created_t\n",
      "created_datetime\n",
      "last_modified_t\n",
      "last_modified_datetime\n",
      "product_name\n",
      "generic_name\n",
      "quantity\n",
      "packaging\n",
      "packaging_tags\n",
      "brands\n",
      "brands_tags\n",
      "categories\n",
      "categories_tags\n",
      "categories_fr\n",
      "origins\n",
      "origins_tags\n",
      "manufacturing_places\n",
      "manufacturing_places_tags\n",
      "labels\n",
      "labels_tags\n",
      "labels_fr\n",
      "emb_codes\n",
      "emb_codes_tags\n",
      "first_packaging_code_geo\n",
      "cities\n",
      "cities_tags\n",
      "purchase_places\n",
      "stores\n",
      "countries\n",
      "countries_tags\n",
      "countries_fr\n",
      "ingredients_text\n",
      "allergens\n",
      "allergens_fr\n",
      "traces\n",
      "traces_tags\n",
      "traces_fr\n",
      "serving_size\n",
      "additives_n\n",
      "additives\n",
      "additives_tags\n",
      "additives_fr\n",
      "ingredients_from_palm_oil_n\n",
      "ingredients_from_palm_oil_tags\n",
      "ingredients_that_may_be_from_palm_oil_n\n",
      "ingredients_that_may_be_from_palm_oil_tags\n",
      "nutrition_grade_fr\n",
      "pnns_groups_1\n",
      "pnns_groups_2\n",
      "states\n",
      "states_tags\n",
      "states_fr\n",
      "main_category\n",
      "main_category_fr\n",
      "image_url\n",
      "image_small_url\n",
      "energy_100g\n",
      "energy-from-fat_100g\n",
      "fat_100g\n",
      "saturated-fat_100g\n",
      "lauric-acid_100g\n",
      "arachidic-acid_100g\n",
      "behenic-acid_100g\n",
      "monounsaturated-fat_100g\n",
      "polyunsaturated-fat_100g\n",
      "omega-3-fat_100g\n",
      "alpha-linolenic-acid_100g\n",
      "eicosapentaenoic-acid_100g\n",
      "docosahexaenoic-acid_100g\n",
      "omega-6-fat_100g\n",
      "linoleic-acid_100g\n",
      "arachidonic-acid_100g\n",
      "gamma-linolenic-acid_100g\n",
      "dihomo-gamma-linolenic-acid_100g\n",
      "omega-9-fat_100g\n",
      "oleic-acid_100g\n",
      "gondoic-acid_100g\n",
      "trans-fat_100g\n",
      "cholesterol_100g\n",
      "carbohydrates_100g\n",
      "sugars_100g\n",
      "sucrose_100g\n",
      "glucose_100g\n",
      "fructose_100g\n",
      "lactose_100g\n",
      "maltose_100g\n",
      "maltodextrins_100g\n",
      "starch_100g\n",
      "polyols_100g\n",
      "fiber_100g\n",
      "proteins_100g\n",
      "casein_100g\n",
      "serum-proteins_100g\n",
      "nucleotides_100g\n",
      "salt_100g\n",
      "sodium_100g\n",
      "alcohol_100g\n",
      "vitamin-a_100g\n",
      "beta-carotene_100g\n",
      "vitamin-d_100g\n",
      "vitamin-e_100g\n",
      "vitamin-k_100g\n",
      "vitamin-c_100g\n",
      "vitamin-b1_100g\n",
      "vitamin-b2_100g\n",
      "vitamin-pp_100g\n",
      "vitamin-b6_100g\n",
      "vitamin-b9_100g\n",
      "folates_100g\n",
      "vitamin-b12_100g\n",
      "biotin_100g\n",
      "pantothenic-acid_100g\n",
      "silica_100g\n",
      "bicarbonate_100g\n",
      "potassium_100g\n",
      "chloride_100g\n",
      "calcium_100g\n",
      "phosphorus_100g\n",
      "iron_100g\n",
      "magnesium_100g\n",
      "zinc_100g\n",
      "copper_100g\n",
      "manganese_100g\n",
      "fluoride_100g\n",
      "selenium_100g\n",
      "chromium_100g\n",
      "molybdenum_100g\n",
      "iodine_100g\n",
      "caffeine_100g\n",
      "taurine_100g\n",
      "ph_100g\n",
      "fruits-vegetables-nuts_100g\n",
      "collagen-meat-protein-ratio_100g\n",
      "cocoa_100g\n",
      "carbon-footprint_100g\n",
      "nutrition-score-fr_100g\n",
      "nutrition-score-uk_100g\n"
     ]
    }
   ],
   "source": [
    "# get columns that have both numeric and non-numeric data\n",
    "cols = data.select_dtypes(include=['number', 'object']).columns\n",
    "for col in cols:\n",
    "    print(col)"
   ]
  },
  {
   "cell_type": "code",
   "execution_count": 46,
   "id": "7d6410be-ab06-40e1-ba16-44bca0c564fe",
   "metadata": {
    "tags": []
   },
   "outputs": [],
   "source": [
    "# Infer the data types of the columns in the DataFrame\n",
    "data = data.infer_objects()"
   ]
  },
  {
   "cell_type": "markdown",
   "id": "2a404f3f-4b3b-4d13-9f97-f574b2f682eb",
   "metadata": {},
   "source": [
    "A value of 'France' does not make sense for the Unix timestamps and indicates an invalid or missing value"
   ]
  },
  {
   "cell_type": "code",
   "execution_count": 45,
   "id": "cb324524-32b8-4982-8a0e-f6a7fe2f3255",
   "metadata": {},
   "outputs": [
    {
     "data": {
      "text/html": [
       "<div>\n",
       "<style scoped>\n",
       "    .dataframe tbody tr th:only-of-type {\n",
       "        vertical-align: middle;\n",
       "    }\n",
       "\n",
       "    .dataframe tbody tr th {\n",
       "        vertical-align: top;\n",
       "    }\n",
       "\n",
       "    .dataframe thead th {\n",
       "        text-align: right;\n",
       "    }\n",
       "</style>\n",
       "<table border=\"1\" class=\"dataframe\">\n",
       "  <thead>\n",
       "    <tr style=\"text-align: right;\">\n",
       "      <th></th>\n",
       "      <th>code</th>\n",
       "      <th>url</th>\n",
       "      <th>creator</th>\n",
       "      <th>created_t</th>\n",
       "      <th>created_datetime</th>\n",
       "      <th>last_modified_t</th>\n",
       "      <th>last_modified_datetime</th>\n",
       "      <th>product_name</th>\n",
       "      <th>generic_name</th>\n",
       "      <th>quantity</th>\n",
       "      <th>...</th>\n",
       "      <th>iodine_100g</th>\n",
       "      <th>caffeine_100g</th>\n",
       "      <th>taurine_100g</th>\n",
       "      <th>ph_100g</th>\n",
       "      <th>fruits-vegetables-nuts_100g</th>\n",
       "      <th>collagen-meat-protein-ratio_100g</th>\n",
       "      <th>cocoa_100g</th>\n",
       "      <th>carbon-footprint_100g</th>\n",
       "      <th>nutrition-score-fr_100g</th>\n",
       "      <th>nutrition-score-uk_100g</th>\n",
       "    </tr>\n",
       "  </thead>\n",
       "  <tbody>\n",
       "  </tbody>\n",
       "</table>\n",
       "<p>0 rows × 140 columns</p>\n",
       "</div>"
      ],
      "text/plain": [
       "Empty DataFrame\n",
       "Columns: [code, url, creator, created_t, created_datetime, last_modified_t, last_modified_datetime, product_name, generic_name, quantity, packaging, packaging_tags, brands, brands_tags, categories, categories_tags, categories_fr, origins, origins_tags, manufacturing_places, manufacturing_places_tags, labels, labels_tags, labels_fr, emb_codes, emb_codes_tags, first_packaging_code_geo, cities, cities_tags, purchase_places, stores, countries, countries_tags, countries_fr, ingredients_text, allergens, allergens_fr, traces, traces_tags, traces_fr, serving_size, additives_n, additives, additives_tags, additives_fr, ingredients_from_palm_oil_n, ingredients_from_palm_oil_tags, ingredients_that_may_be_from_palm_oil_n, ingredients_that_may_be_from_palm_oil_tags, nutrition_grade_fr, pnns_groups_1, pnns_groups_2, states, states_tags, states_fr, main_category, main_category_fr, image_url, image_small_url, energy_100g, energy-from-fat_100g, fat_100g, saturated-fat_100g, lauric-acid_100g, arachidic-acid_100g, behenic-acid_100g, monounsaturated-fat_100g, polyunsaturated-fat_100g, omega-3-fat_100g, alpha-linolenic-acid_100g, eicosapentaenoic-acid_100g, docosahexaenoic-acid_100g, omega-6-fat_100g, linoleic-acid_100g, arachidonic-acid_100g, gamma-linolenic-acid_100g, dihomo-gamma-linolenic-acid_100g, omega-9-fat_100g, oleic-acid_100g, gondoic-acid_100g, trans-fat_100g, cholesterol_100g, carbohydrates_100g, sugars_100g, sucrose_100g, glucose_100g, fructose_100g, lactose_100g, maltose_100g, maltodextrins_100g, starch_100g, polyols_100g, fiber_100g, proteins_100g, casein_100g, serum-proteins_100g, nucleotides_100g, salt_100g, sodium_100g, alcohol_100g, ...]\n",
       "Index: []\n",
       "\n",
       "[0 rows x 140 columns]"
      ]
     },
     "execution_count": 45,
     "metadata": {},
     "output_type": "execute_result"
    }
   ],
   "source": [
    "data.loc[data.created_t == 'France']"
   ]
  },
  {
   "cell_type": "markdown",
   "id": "95c21c50-0409-4098-b892-0f7c62b72903",
   "metadata": {},
   "source": [
    "Here we use the `to_datetime` function to convert a column containing Unix timestamps to a datetime data type:\n"
   ]
  },
  {
   "cell_type": "code",
   "execution_count": 43,
   "id": "844ea0c1-9f5a-488a-9d43-e97c3fa116a8",
   "metadata": {
    "collapsed": true,
    "jupyter": {
     "outputs_hidden": true
    }
   },
   "outputs": [
    {
     "name": "stdout",
     "output_type": "stream",
     "text": [
      "datetime64[ns]\n",
      "datetime64[ns]\n"
     ]
    }
   ],
   "source": [
    "unix_time = []\n",
    "for column in columns:\n",
    "    if column.endswith('_t'):\n",
    "        data[column] = pd.to_datetime(data[column], unit=\"s\", errors='coerce')\n",
    "        print(data[column].dtypes)"
   ]
  },
  {
   "cell_type": "markdown",
   "id": "53670876-461a-47f8-9541-a092f8d21237",
   "metadata": {},
   "source": [
    "the term `errors='coerce'` is used to indicate that invalid or missing values in a data frame should be converted (or coerced) to a null or missing value."
   ]
  },
  {
   "cell_type": "code",
   "execution_count": 44,
   "id": "a9294d93-e1f2-4158-8c2e-cf4824f89e25",
   "metadata": {
    "collapsed": true,
    "jupyter": {
     "outputs_hidden": true
    },
    "tags": []
   },
   "outputs": [
    {
     "data": {
      "text/plain": [
       "0   2016-09-17 09:17:46\n",
       "1   2017-03-09 14:32:37\n",
       "2   2017-03-09 14:32:37\n",
       "3   2017-03-09 10:35:31\n",
       "4   2017-03-09 10:34:13\n",
       "Name: created_t, dtype: datetime64[ns]"
      ]
     },
     "execution_count": 44,
     "metadata": {},
     "output_type": "execute_result"
    }
   ],
   "source": [
    "data.created_t.head()"
   ]
  }
 ],
 "metadata": {
  "kernelspec": {
   "display_name": "Python 3 (ipykernel)",
   "language": "python",
   "name": "python3"
  },
  "language_info": {
   "codemirror_mode": {
    "name": "ipython",
    "version": 3
   },
   "file_extension": ".py",
   "mimetype": "text/x-python",
   "name": "python",
   "nbconvert_exporter": "python",
   "pygments_lexer": "ipython3",
   "version": "3.10.4"
  }
 },
 "nbformat": 4,
 "nbformat_minor": 5
}
